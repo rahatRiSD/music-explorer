{
 "cells": [
  {
   "cell_type": "markdown",
   "id": "2c13c2fd-7013-414d-b5de-24c3ff47cb64",
   "metadata": {},
   "source": [
    "# HarmonyHub"
   ]
  },
  {
   "cell_type": "code",
   "execution_count": 1,
   "id": "f31d446a-d2c2-46ad-bdb5-b82b1e56eb4b",
   "metadata": {},
   "outputs": [
    {
     "name": "stdout",
     "output_type": "stream",
     "text": [
      "🎵 Music Discovery Tool 🎵\n",
      "Search for songs or get recommendations based on your preferences.\n",
      "Database contains 100 songs from 49 artists.\n",
      "\n"
     ]
    },
    {
     "data": {
      "application/vnd.jupyter.widget-view+json": {
       "model_id": "5091c7f3c3af4fe69202cb438f9b9679",
       "version_major": 2,
       "version_minor": 0
      },
      "text/plain": [
       "HBox(children=(Text(value='', description='Title:', placeholder='Enter song title'), Text(value='', descriptio…"
      ]
     },
     "metadata": {},
     "output_type": "display_data"
    },
    {
     "data": {
      "application/vnd.jupyter.widget-view+json": {
       "model_id": "de267aac4a2f4cdfbb94bdd1243397e9",
       "version_major": 2,
       "version_minor": 0
      },
      "text/plain": [
       "Dropdown(description='Genre:', options=('All', 'Classical', 'Country', 'Electronic', 'Hip-Hop', 'Indie', 'Jazz…"
      ]
     },
     "metadata": {},
     "output_type": "display_data"
    },
    {
     "data": {
      "application/vnd.jupyter.widget-view+json": {
       "model_id": "389cce9ea1124bde859ccbd6cc19390e",
       "version_major": 2,
       "version_minor": 0
      },
      "text/plain": [
       "IntRangeSlider(value=(1960, 2023), description='Year Range:', max=2023, min=1960)"
      ]
     },
     "metadata": {},
     "output_type": "display_data"
    },
    {
     "data": {
      "application/vnd.jupyter.widget-view+json": {
       "model_id": "8bb7412dcf6e480899401d5f4396f7ee",
       "version_major": 2,
       "version_minor": 0
      },
      "text/plain": [
       "IntSlider(value=300, description='Max Duration (sec):', max=600, min=120)"
      ]
     },
     "metadata": {},
     "output_type": "display_data"
    },
    {
     "data": {
      "application/vnd.jupyter.widget-view+json": {
       "model_id": "085fabc942e54cccb917bb60794670fe",
       "version_major": 2,
       "version_minor": 0
      },
      "text/plain": [
       "HBox(children=(Button(description='Search Songs', style=ButtonStyle()), Button(description='Get Recommendation…"
      ]
     },
     "metadata": {},
     "output_type": "display_data"
    },
    {
     "data": {
      "application/vnd.jupyter.widget-view+json": {
       "model_id": "bd76e178d97d4bb8949cfc8d61d8572b",
       "version_major": 2,
       "version_minor": 0
      },
      "text/plain": [
       "Output()"
      ]
     },
     "metadata": {},
     "output_type": "display_data"
    },
    {
     "name": "stdout",
     "output_type": "stream",
     "text": [
      "\n",
      "Here are some songs from our database:\n",
      "Deadmau5's Song 1 by Deadmau5 (1976) - 2:30\n",
      "Beyoncé's Song 1 by Beyoncé (2015) - 4:30\n",
      "Beethoven's Song 1 by Beethoven (1970) - 4:44\n",
      "Arctic's Song 1 by Arctic Monkeys (1969) - 2:07\n",
      "Kendrick's Song 1 by Kendrick Lamar (1991) - 4:50\n"
     ]
    }
   ],
   "source": [
    "import pandas as pd\n",
    "import ipywidgets as widgets\n",
    "from IPython.display import display, clear_output\n",
    "import random\n",
    "from datetime import datetime\n",
    "\n",
    "# Create a sample music database\n",
    "def create_music_database():\n",
    "    genres = ['Pop', 'Rock', 'Hip-Hop', 'Electronic', 'R&B', 'Jazz', 'Classical', 'Country', 'Metal', 'Indie']\n",
    "    artists = {\n",
    "        'Pop': ['Taylor Swift', 'Ariana Grande', 'Ed Sheeran', 'Dua Lipa', 'Justin Bieber'],\n",
    "        'Rock': ['The Beatles', 'Led Zeppelin', 'Queen', 'Pink Floyd', 'The Rolling Stones'],\n",
    "        'Hip-Hop': ['Kendrick Lamar', 'Drake', 'J. Cole', 'Travis Scott', 'Eminem'],\n",
    "        'Electronic': ['Daft Punk', 'The Chemical Brothers', 'Deadmau5', 'Calvin Harris', 'Martin Garrix'],\n",
    "        'R&B': ['Beyoncé', 'The Weeknd', 'Frank Ocean', 'SZA', 'Usher'],\n",
    "        'Jazz': ['Miles Davis', 'John Coltrane', 'Louis Armstrong', 'Ella Fitzgerald', 'Duke Ellington'],\n",
    "        'Classical': ['Mozart', 'Beethoven', 'Bach', 'Chopin', 'Tchaikovsky'],\n",
    "        'Country': ['Johnny Cash', 'Dolly Parton', 'Willie Nelson', 'Taylor Swift', 'Luke Combs'],\n",
    "        'Metal': ['Metallica', 'Iron Maiden', 'Black Sabbath', 'Slipknot', 'System of a Down'],\n",
    "        'Indie': ['Arctic Monkeys', 'The Strokes', 'Tame Impala', 'Vampire Weekend', 'Florence + The Machine']\n",
    "    }\n",
    "    \n",
    "    songs = []\n",
    "    for genre in genres:\n",
    "        for artist in artists[genre]:\n",
    "            # Create 2 songs per artist\n",
    "            for i in range(1, 3):\n",
    "                year = random.randint(1960, 2023)\n",
    "                duration = random.randint(120, 360)  # 2-6 minutes in seconds\n",
    "                popularity = random.randint(1, 100)\n",
    "                \n",
    "                songs.append({\n",
    "                    'Title': f\"{artist.split()[0]}'s Song {i}\",\n",
    "                    'Artist': artist,\n",
    "                    'Genre': genre,\n",
    "                    'Year': year,\n",
    "                    'Duration': duration,\n",
    "                    'Popularity': popularity,\n",
    "                    'ID': len(songs) + 1\n",
    "                })\n",
    "    \n",
    "    return pd.DataFrame(songs)\n",
    "\n",
    "# Initialize the music database\n",
    "music_db = create_music_database()\n",
    "\n",
    "# Function to format duration (seconds to mm:ss)\n",
    "def format_duration(seconds):\n",
    "    minutes = seconds // 60\n",
    "    seconds = seconds % 60\n",
    "    return f\"{minutes}:{seconds:02d}\"\n",
    "\n",
    "# Search functions\n",
    "def search_by_title(title):\n",
    "    return music_db[music_db['Title'].str.contains(title, case=False)]\n",
    "\n",
    "def search_by_artist(artist):\n",
    "    return music_db[music_db['Artist'].str.contains(artist, case=False)]\n",
    "\n",
    "def search_by_genre(genre):\n",
    "    return music_db[music_db['Genre'].str.contains(genre, case=False)]\n",
    "\n",
    "def search_by_year_range(start_year, end_year):\n",
    "    return music_db[(music_db['Year'] >= start_year) & (music_db['Year'] <= end_year)]\n",
    "\n",
    "def search_by_duration(max_duration):\n",
    "    return music_db[music_db['Duration'] <= max_duration]\n",
    "\n",
    "# Recommendation function\n",
    "def recommend_songs(genre=None, artist=None, min_popularity=50):\n",
    "    if genre and artist:\n",
    "        filtered = music_db[(music_db['Genre'] == genre) & (music_db['Artist'] == artist)]\n",
    "    elif genre:\n",
    "        filtered = music_db[music_db['Genre'] == genre]\n",
    "    elif artist:\n",
    "        filtered = music_db[music_db['Artist'] == artist]\n",
    "    else:\n",
    "        filtered = music_db.copy()\n",
    "    \n",
    "    filtered = filtered[filtered['Popularity'] >= min_popularity]\n",
    "    if len(filtered) > 5:\n",
    "        return filtered.sample(5)\n",
    "    return filtered\n",
    "\n",
    "# Widgets for the UI\n",
    "title_search = widgets.Text(placeholder='Enter song title', description='Title:')\n",
    "artist_search = widgets.Text(placeholder='Enter artist name', description='Artist:')\n",
    "genre_dropdown = widgets.Dropdown(options=['All'] + sorted(music_db['Genre'].unique()), description='Genre:')\n",
    "year_slider = widgets.IntRangeSlider(value=[1960, 2023], min=1960, max=2023, description='Year Range:')\n",
    "duration_slider = widgets.IntSlider(value=300, min=120, max=600, description='Max Duration (sec):')\n",
    "search_button = widgets.Button(description=\"Search Songs\")\n",
    "recommend_button = widgets.Button(description=\"Get Recommendations\")\n",
    "output = widgets.Output()\n",
    "\n",
    "# Search button click handler\n",
    "def on_search_button_clicked(b):\n",
    "    with output:\n",
    "        clear_output()\n",
    "        results = music_db.copy()\n",
    "        \n",
    "        # Apply filters\n",
    "        if title_search.value:\n",
    "            results = results[results['Title'].str.contains(title_search.value, case=False)]\n",
    "        if artist_search.value:\n",
    "            results = results[results['Artist'].str.contains(artist_search.value, case=False)]\n",
    "        if genre_dropdown.value != 'All':\n",
    "            results = results[results['Genre'] == genre_dropdown.value]\n",
    "        if year_slider.value != [1960, 2023]:\n",
    "            results = results[(results['Year'] >= year_slider.value[0]) & \n",
    "                              (results['Year'] <= year_slider.value[1])]\n",
    "        if duration_slider.value != 600:\n",
    "            results = results[results['Duration'] <= duration_slider.value]\n",
    "        \n",
    "        if len(results) == 0:\n",
    "            print(\"No songs found matching your criteria.\")\n",
    "        else:\n",
    "            print(f\"Found {len(results)} songs:\")\n",
    "            display(results[['Title', 'Artist', 'Genre', 'Year', 'Duration']].head(20))\n",
    "            print(\"\\nTip: Use more specific filters if you see too many results.\")\n",
    "\n",
    "# Recommendation button click handler\n",
    "def on_recommend_button_clicked(b):\n",
    "    with output:\n",
    "        clear_output()\n",
    "        genre = genre_dropdown.value if genre_dropdown.value != 'All' else None\n",
    "        artist = artist_search.value if artist_search.value else None\n",
    "        \n",
    "        recommendations = recommend_songs(genre=genre, artist=artist)\n",
    "        \n",
    "        if len(recommendations) == 0:\n",
    "            print(\"No recommendations found. Try broadening your search.\")\n",
    "        else:\n",
    "            print(\"Recommended songs for you:\")\n",
    "            display(recommendations[['Title', 'Artist', 'Genre', 'Year', 'Popularity']])\n",
    "\n",
    "# Set button click handlers\n",
    "search_button.on_click(on_search_button_clicked)\n",
    "recommend_button.on_click(on_recommend_button_clicked)\n",
    "\n",
    "# Display the UI\n",
    "print(\"🎵 Music Discovery Tool 🎵\")\n",
    "print(\"Search for songs or get recommendations based on your preferences.\")\n",
    "print(f\"Database contains {len(music_db)} songs from {len(music_db['Artist'].unique())} artists.\\n\")\n",
    "\n",
    "display(widgets.HBox([title_search, artist_search]))\n",
    "display(genre_dropdown)\n",
    "display(year_slider)\n",
    "display(duration_slider)\n",
    "display(widgets.HBox([search_button, recommend_button]))\n",
    "display(output)\n",
    "\n",
    "# Display some random songs as examples\n",
    "print(\"\\nHere are some songs from our database:\")\n",
    "sample_songs = music_db.sample(5)\n",
    "for _, song in sample_songs.iterrows():\n",
    "    print(f\"{song['Title']} by {song['Artist']} ({song['Year']}) - {format_duration(song['Duration'])}\")"
   ]
  },
  {
   "cell_type": "code",
   "execution_count": null,
   "id": "a526c65a-b291-43f6-be62-a7e013bf3edf",
   "metadata": {},
   "outputs": [],
   "source": []
  }
 ],
 "metadata": {
  "kernelspec": {
   "display_name": "Python 3 (ipykernel)",
   "language": "python",
   "name": "python3"
  },
  "language_info": {
   "codemirror_mode": {
    "name": "ipython",
    "version": 3
   },
   "file_extension": ".py",
   "mimetype": "text/x-python",
   "name": "python",
   "nbconvert_exporter": "python",
   "pygments_lexer": "ipython3",
   "version": "3.12.7"
  }
 },
 "nbformat": 4,
 "nbformat_minor": 5
}
